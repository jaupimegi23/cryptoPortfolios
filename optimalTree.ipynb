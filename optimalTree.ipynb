{
 "cells": [
  {
   "cell_type": "code",
   "execution_count": 3,
   "metadata": {},
   "outputs": [
    {
     "name": "stderr",
     "output_type": "stream",
     "text": [
      "WARNING:root:This copy of Interpretable AI software is for academic purposes only and not for commercial use.\n",
      "WARNING:root:Interpretable AI license expires soon: 2022-12-31T00:00:00. If you need to renew, please send us the following machine ID:\n",
      "1f302ee744f0c5b56a7bdfadaaee583e4266588ca0b8a032e72e0fc0ea74e74d\n"
     ]
    }
   ],
   "source": [
    "from sklearn.model_selection import train_test_split\n",
    "import pandas as pd\n",
    "import numpy as np\n",
    "from interpretableai import iai\n",
    "import pandas as pd\n",
    "from sklearn.metrics import r2_score"
   ]
  },
  {
   "cell_type": "code",
   "execution_count": 4,
   "metadata": {},
   "outputs": [],
   "source": [
    "data = pd.read_csv(\"features.csv\")\n",
    "open_cols = [col for col in data.columns if \"Open\" in col]\n",
    "coins = [col.split(\"_\")[1] for col in open_cols]\n",
    "\n",
    "df_train = pd.read_csv(\"features_train.csv\")\n",
    "df_test1 = pd.read_csv(\"features_val.csv\")\n",
    "df_test2 = pd.read_csv(\"features_test.csv\")"
   ]
  },
  {
   "cell_type": "code",
   "execution_count": 5,
   "metadata": {},
   "outputs": [],
   "source": [
    "randomState = 42"
   ]
  },
  {
   "cell_type": "code",
   "execution_count": null,
   "metadata": {},
   "outputs": [],
   "source": [
    "tree_learners = []\n",
    "for coin in coins:\n",
    "    coin_cols = [col for col in df_train.columns if coin in col]\n",
    "    df_coin = df_train[coin_cols]\n",
    "    nrows = df_coin.shape[0]\n",
    "    train_X = df_coin.drop(columns=\"Log_RET_{}\".format(coin))[65:nrows-1]\n",
    "    train_y = df_coin[\"Log_RET_{}\".format(coin)][66:nrows]\n",
    "\n",
    "    df_coin_test = df_test1[coin_cols]\n",
    "    test_X = df_coin_test.drop(columns=\"Log_RET_{}\".format(coin))[0:nrows-1]\n",
    "    test_y = df_coin_test[\"Log_RET_{}\".format(coin)][1:nrows]\n",
    "\n",
    "    grid = iai.GridSearch(iai.OptimalTreeRegressor(random_seed=randomState, regression_features={'All'}),max_depth=[5],regression_lambda=[0.05])\n",
    "    grid.fit(train_X, train_y)\n",
    "    #grid.fit_cv(train_X, train_y)\n",
    "\n",
    "    #get tree\n",
    "    grid.write_html(\"results/\" + coin + \"_tree.html\")\n",
    "    bestLearner = grid.get_learner()\n",
    "    tree_learners.append(bestLearner)\n",
    "\n",
    "    train_y_hat = bestLearner.predict(train_X)\n",
    "    cvAcc = bestLearner.score(train_X, train_y, criterion=\"mse\")\n",
    "    cvR2 = r2_score(train_y, train_y_hat)\n",
    "    print(\"Train MSE for {}: {}\".format(coin, cvAcc))\n",
    "    print(\"Train R2 for {}: {}\".format(coin, cvR2))"
   ]
  },
  {
   "cell_type": "code",
   "execution_count": null,
   "metadata": {},
   "outputs": [],
   "source": []
  }
 ],
 "metadata": {
  "kernelspec": {
   "display_name": "Python 3.10.8 ('env': venv)",
   "language": "python",
   "name": "python3"
  },
  "language_info": {
   "codemirror_mode": {
    "name": "ipython",
    "version": 3
   },
   "file_extension": ".py",
   "mimetype": "text/x-python",
   "name": "python",
   "nbconvert_exporter": "python",
   "pygments_lexer": "ipython3",
   "version": "3.10.8"
  },
  "orig_nbformat": 4,
  "vscode": {
   "interpreter": {
    "hash": "1a8bf14596f7c0eeab1e96a0b1ba9d8fe89ec2efd241b4328d54155dd7115abd"
   }
  }
 },
 "nbformat": 4,
 "nbformat_minor": 2
}
