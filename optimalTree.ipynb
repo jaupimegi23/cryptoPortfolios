{
 "cells": [
  {
   "cell_type": "code",
   "execution_count": 1,
   "metadata": {},
   "outputs": [
    {
     "name": "stderr",
     "output_type": "stream",
     "text": [
      "WARNING:root:This copy of Interpretable AI software is for academic purposes only and not for commercial use.\n",
      "WARNING:root:Interpretable AI license expires soon: 2022-12-31T00:00:00. If you need to renew, please send us the following machine ID:\n",
      "1f302ee744f0c5b56a7bdfadaaee583e4266588ca0b8a032e72e0fc0ea74e74d\n"
     ]
    }
   ],
   "source": [
    "from sklearn.model_selection import train_test_split\n",
    "import pandas as pd\n",
    "import numpy as np\n",
    "from interpretableai import iai\n",
    "import pandas as pd\n",
    "from sklearn.metrics import r2_score"
   ]
  },
  {
   "cell_type": "code",
   "execution_count": 6,
   "metadata": {},
   "outputs": [
    {
     "name": "stdout",
     "output_type": "stream",
     "text": [
      "['XRP', 'NEO', 'Stellar', 'Dogecoin', 'Tether', 'XEM', 'TRX', 'NXT', 'Ethereum', 'PPC', 'BNB', 'BTC', 'Litecoin']\n"
     ]
    }
   ],
   "source": [
    "data = pd.read_csv(\"features.csv\")\n",
    "data = data.drop(data.columns[0], axis=1)\n",
    "n_all = data.shape[0]\n",
    "open_cols = [col for col in data.columns if \"Open\" in col]\n",
    "coins = [col.split(\"_\")[1] for col in open_cols]\n",
    "print(coins)\n",
    "data = data[65:].reset_index(drop=True)\n",
    "\n",
    "all_data = \"TRUE\"\n",
    "lookback = 100\n",
    "lookforward = 1\n",
    "\n",
    "val_size = lookforward * 10\n",
    "test_size = lookforward * 10\n",
    "\n",
    "train = data[:-1][:-val_size-test_size]\n",
    "n_train = len(train)\n",
    "\n",
    "val = data[:-1][-val_size-test_size:-test_size]\n",
    "n_val = len(val)\n",
    "\n",
    "test = data[:-1][-test_size:]\n",
    "n_test = len(test)"
   ]
  },
  {
   "cell_type": "code",
   "execution_count": 8,
   "metadata": {},
   "outputs": [],
   "source": [
    "randomState = 42"
   ]
  },
  {
   "cell_type": "code",
   "execution_count": 9,
   "metadata": {},
   "outputs": [
    {
     "name": "stderr",
     "output_type": "stream",
     "text": [
      "[ Warning: This copy of Interpretable AI software is for academic purposes only and not for commercial use.\n",
      "┌ Warning: Interpretable AI license expires soon: 2022-12-31T00:00:00. If you need to renew, please send us the following machine ID:\n",
      "└ 1f302ee744f0c5b56a7bdfadaaee583e4266588ca0b8a032e72e0fc0ea74e74d\n",
      "┌ Warning: Numeric instability detected: objective value after iteration did not match the value that was expected so this change was rejected.\n",
      "│ \n",
      "│ Possible causes include:\n",
      "│ - using linear regression in the leaves with a small `minbucket`\n",
      "│ - using `:tweedie` criterion with a large number of samples\n",
      "│ \n",
      "└ If none of these apply, please let us know so we can investigate.\n",
      "/var/folders/j2/7j0fctvs2258gcs69mmjmlsr0000gn/T/ipykernel_1860/1292975939.py:34: FutureWarning: The behavior of `series[i:j]` with an integer-dtype index is deprecated. In a future version, this will be treated as *label-based* indexing, consistent with e.g. `series[i]` lookups. To retain the old behavior, use `series.iloc[i:j]`. To get the future behavior, use `series.loc[i:j]`.\n",
      "  r2 = r2_score(val[\"Log_RET_{}\".format(coin)][:-1], val[\"Log_RET_{}_pred\".format(coin)][1:])\n",
      "/var/folders/j2/7j0fctvs2258gcs69mmjmlsr0000gn/T/ipykernel_1860/1292975939.py:44: FutureWarning: The behavior of `series[i:j]` with an integer-dtype index is deprecated. In a future version, this will be treated as *label-based* indexing, consistent with e.g. `series[i]` lookups. To retain the old behavior, use `series.iloc[i:j]`. To get the future behavior, use `series.loc[i:j]`.\n",
      "  mse = np.mean((val[\"Log_RET_{}\".format(coin)][:-1] - val[\"Log_RET_{}_pred\".format(coin)][1:])**2)\n"
     ]
    },
    {
     "name": "stdout",
     "output_type": "stream",
     "text": [
      "Validation R2 for XRP is 0.2866861375032508\n",
      "Validation OSR2 for XRP is -0.09803996323582598\n",
      "Validation MSE for XRP is 0.0002889953499743604\n"
     ]
    },
    {
     "name": "stderr",
     "output_type": "stream",
     "text": [
      "/var/folders/j2/7j0fctvs2258gcs69mmjmlsr0000gn/T/ipykernel_1860/1292975939.py:34: FutureWarning: The behavior of `series[i:j]` with an integer-dtype index is deprecated. In a future version, this will be treated as *label-based* indexing, consistent with e.g. `series[i]` lookups. To retain the old behavior, use `series.iloc[i:j]`. To get the future behavior, use `series.loc[i:j]`.\n",
      "  r2 = r2_score(val[\"Log_RET_{}\".format(coin)][:-1], val[\"Log_RET_{}_pred\".format(coin)][1:])\n",
      "/var/folders/j2/7j0fctvs2258gcs69mmjmlsr0000gn/T/ipykernel_1860/1292975939.py:44: FutureWarning: The behavior of `series[i:j]` with an integer-dtype index is deprecated. In a future version, this will be treated as *label-based* indexing, consistent with e.g. `series[i]` lookups. To retain the old behavior, use `series.iloc[i:j]`. To get the future behavior, use `series.loc[i:j]`.\n",
      "  mse = np.mean((val[\"Log_RET_{}\".format(coin)][:-1] - val[\"Log_RET_{}_pred\".format(coin)][1:])**2)\n"
     ]
    }
   ],
   "source": [
    "for coin in coins:\n",
    "    i = 0\n",
    "    coin_cols = [col for col in data.columns if coin in col]\n",
    "    df_coin = data[coin_cols]\n",
    "    x = df_coin.drop(columns=\"Log_RET_{}\".format(coin))[:-1]\n",
    "    y = df_coin[\"Log_RET_{}\".format(coin)][1:]\n",
    "\n",
    "    grid = iai.GridSearch(iai.OptimalTreeRegressor(random_seed=randomState, regression_features={'All'}),max_depth=[5],regression_lambda=[0.05])\n",
    "\n",
    "    nume = []\n",
    "    deno = []\n",
    "    y_valid_hat_coin = np.array([])\n",
    "    # Validation\n",
    "    if all_data == \"TRUE\":\n",
    "        for i in range(0, n_val, lookforward):\n",
    "            x_train = x.iloc[0:n_train + i]\n",
    "            y_train = y.iloc[0:n_train + i]\n",
    "            x_valid = x.iloc[n_train + i :n_train + i + lookforward]\n",
    "            y_valid = y.iloc[n_train + i :n_train + i + lookforward]\n",
    "            grid.fit(x_train, y_train)\n",
    "\n",
    "            #get tree\n",
    "            grid.write_html(\"results/\" + coin + \"_tree.html\")\n",
    "            bestLearner = grid.get_learner()\n",
    "            #tree_learners.append(bestLearner)\n",
    "\n",
    "            y_valid_hat_wind = bestLearner.predict(x_valid)\n",
    "            y_valid_hat_coin = np.append(y_valid_hat_coin, y_valid_hat_wind, axis=0)\n",
    "            nume.append((y_valid_hat_wind-y_valid.values)**2)\n",
    "            deno.append((y_valid.values-y_train.mean())**2)\n",
    "\n",
    "    val[\"Log_RET_{}_pred\".format(coin)] = y_valid_hat_coin\n",
    "\n",
    "    r2 = r2_score(val[\"Log_RET_{}\".format(coin)][:-1], val[\"Log_RET_{}_pred\".format(coin)][1:])\n",
    "    print(\"Validation R2 for {} is {}\".format(coin, r2))\n",
    "\n",
    "    nume = np.array(nume)\n",
    "    nume = nume.reshape(nume.shape[0]*nume.shape[1],)\n",
    "    deno = np.array(deno)\n",
    "    deno = deno.reshape(deno.shape[0]*deno.shape[1],)\n",
    "    osr2 = 1-sum(nume)/sum(deno)\n",
    "    print(\"Validation OSR2 for {} is {}\".format(coin, osr2))\n",
    "\n",
    "    mse = np.mean((val[\"Log_RET_{}\".format(coin)][:-1] - val[\"Log_RET_{}_pred\".format(coin)][1:])**2)\n",
    "    print(\"Validation MSE for {} is {}\".format(coin, mse))\n",
    "\n",
    "    \"\"\"\n",
    "    # Test\n",
    "    y_test_hat_coin = np.array([])\n",
    "    if all_data == \"TRUE\":\n",
    "        for i in range(0, n_test, lookforward):\n",
    "            x_train = x.iloc[0:n_train + n_val + i]\n",
    "            y_train = y.iloc[0:n_train + n_val + i]\n",
    "            x_test = x.iloc[n_train + n_val + i :n_train + n_val + i + lookforward]\n",
    "            y_test = y.iloc[n_train + n_val + i :n_train + n_val + i + lookforward]\n",
    "            grid.fit(x_train, y_train)\n",
    "            bestLearner = grid.get_learner()\n",
    "            y_test_hat_wind = bestLearner.predict(x_test)\n",
    "            y_test_hat_coin = np.append(y_test_hat_coin, y_test_hat_wind, axis=0)\n",
    "\n",
    "    test[\"Log_RET_{}_pred\".format(coin)] = y_test_hat_coin\n",
    "    \"\"\"\n",
    "\n",
    "# Save predictions\n",
    "val.to_csv(\"results/optTree_val.csv\")\n",
    "test.to_csv(\"results/optTree_val_test.csv\")"
   ]
  }
 ],
 "metadata": {
  "kernelspec": {
   "display_name": "Python 3.10.8 ('env': venv)",
   "language": "python",
   "name": "python3"
  },
  "language_info": {
   "codemirror_mode": {
    "name": "ipython",
    "version": 3
   },
   "file_extension": ".py",
   "mimetype": "text/x-python",
   "name": "python",
   "nbconvert_exporter": "python",
   "pygments_lexer": "ipython3",
   "version": "3.10.8"
  },
  "orig_nbformat": 4,
  "vscode": {
   "interpreter": {
    "hash": "1a8bf14596f7c0eeab1e96a0b1ba9d8fe89ec2efd241b4328d54155dd7115abd"
   }
  }
 },
 "nbformat": 4,
 "nbformat_minor": 2
}
